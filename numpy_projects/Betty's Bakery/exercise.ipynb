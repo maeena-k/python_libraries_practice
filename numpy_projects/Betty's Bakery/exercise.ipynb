{
 "cells": [
  {
   "cell_type": "markdown",
   "metadata": {},
   "source": [
    "# Betty's Bakery"
   ]
  },
  {
   "cell_type": "markdown",
   "metadata": {},
   "source": [
    "Betty has always used her grandmother’s recipe book to make cookies, cakes, pancakes, and bread for her friends and family. She’s getting ready to open a business and will need to start buying all of her milk, eggs, sugar, flour, and butter in bulk.\n",
    "\n",
    "Help Betty figure out how much she needs to buy using NumPy arrays describing her recipes."
   ]
  },
  {
   "cell_type": "markdown",
   "metadata": {},
   "source": [
    "## Complete all the tasks below"
   ]
  },
  {
   "cell_type": "markdown",
   "metadata": {},
   "source": [
    "**1: Start by importing NumPy as ```np```.**"
   ]
  },
  {
   "cell_type": "code",
   "execution_count": null,
   "metadata": {},
   "outputs": [],
   "source": []
  },
  {
   "cell_type": "markdown",
   "metadata": {},
   "source": [
    "**2: All of Betty’s recipes call for milk, eggs, sugar, flour, and butter. For example, her cupcake recipe calls for:**\n",
    "\n",
    "**|Flour|Sugar|Eggs|Milk|Butter|**\n",
    "**|2 cups|0.75 cups|2 eggs|1 cups|0.5 cups|**\n",
    "\n",
    "**Create a NumPy array that represents this data. Each element should be a number (i.e., 2 for \"2 cups\"). Save this array as ```cupcakes``` .**"
   ]
  },
  {
   "cell_type": "code",
   "execution_count": 2,
   "metadata": {},
   "outputs": [],
   "source": [
    "# code for task2 \n"
   ]
  },
  {
   "cell_type": "markdown",
   "metadata": {},
   "source": [
    "**3: Betty’s assistant has compiled all of her recipes into a csv (comma-separated variable) file called recipes.csv . Load this file into a variable called ```recipes```.**"
   ]
  },
  {
   "cell_type": "code",
   "execution_count": 3,
   "metadata": {
    "scrolled": true
   },
   "outputs": [],
   "source": [
    "# code for task 3\n"
   ]
  },
  {
   "cell_type": "markdown",
   "metadata": {},
   "source": [
    "**4: Look at the four arrays above.**\n",
    "\n",
    "**Each row represents a different recipe. Each column represents a different ingredient.**\n",
    "\n",
    "**|Recipe|Cups of Flour|Cups of Sugar|Eggs|Cups of Milk|Cups of Butter|**\n",
    "**|Cupcakes|…|…|…|…|…|**\n",
    "**|Pancake|…|…|…|…|…|**\n",
    "**|Cookie|…|…|…|…|…|**\n",
    "**|Bread|…|…|…|…|…|**\n"
   ]
  },
  {
   "cell_type": "markdown",
   "metadata": {},
   "source": [
    "**5: The 3rd column represents the number of eggs that each recipe needs.**\n",
    "\n",
    "**Select all elements from the 3rd column and save them to the variable ```eggs```.**"
   ]
  },
  {
   "cell_type": "code",
   "execution_count": 5,
   "metadata": {},
   "outputs": [],
   "source": [
    "# code for task 5\n"
   ]
  },
  {
   "cell_type": "markdown",
   "metadata": {},
   "source": [
    "**6: Which recipes require exactly 1 egg? Use a logical statement to get ```True``` or ```False``` for each value of ```eggs```.**"
   ]
  },
  {
   "cell_type": "code",
   "execution_count": 6,
   "metadata": {},
   "outputs": [],
   "source": [
    "# code for task 6\n"
   ]
  },
  {
   "cell_type": "markdown",
   "metadata": {},
   "source": [
    "**7: Betty is going to make 2 batches of cupcakes (1st row) and 1 batch of cookies (3rd row).**\n",
    "\n",
    "**You already have a variable for cupcakes. Create a variable for ```cookies``` with the data from the 3rd row.**"
   ]
  },
  {
   "cell_type": "code",
   "execution_count": 7,
   "metadata": {},
   "outputs": [],
   "source": [
    "# code for task7\n"
   ]
  },
  {
   "cell_type": "markdown",
   "metadata": {},
   "source": [
    "**8: Get the number of ingredients for a double batch of cupcakes by using multiplication on cupcakes. Save your new variable to ```double_batch```.**"
   ]
  },
  {
   "cell_type": "code",
   "execution_count": 8,
   "metadata": {},
   "outputs": [],
   "source": [
    "# code for task8\n"
   ]
  },
  {
   "cell_type": "markdown",
   "metadata": {},
   "source": [
    "**9: Create a new variable called ```grocery_list``` by adding cookies and double_batch.**"
   ]
  },
  {
   "cell_type": "code",
   "execution_count": 9,
   "metadata": {},
   "outputs": [],
   "source": [
    "# code for task9\n"
   ]
  }
 ],
 "metadata": {
  "kernelspec": {
   "display_name": "Python 3",
   "language": "python",
   "name": "python3"
  },
  "language_info": {
   "codemirror_mode": {
    "name": "ipython",
    "version": 3
   },
   "file_extension": ".py",
   "mimetype": "text/x-python",
   "name": "python",
   "nbconvert_exporter": "python",
   "pygments_lexer": "ipython3",
   "version": "3.7.3"
  }
 },
 "nbformat": 4,
 "nbformat_minor": 2
}
