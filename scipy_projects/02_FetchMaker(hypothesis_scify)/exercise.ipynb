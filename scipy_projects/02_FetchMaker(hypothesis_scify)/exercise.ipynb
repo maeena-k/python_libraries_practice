{
 "cells": [
  {
   "cell_type": "markdown",
   "metadata": {},
   "source": [
    "## FetchMaker\n",
    "\n",
    "Congratulations! You’ve just started working at the hottest new tech startup, FetchMaker. FetchMaker’s mission is to match up prospective dog owners with their perfect pet. Data on thousands of adoptable dogs are in FetchMaker’s system, and it’s your job to analyze some of that data."
   ]
  },
  {
   "cell_type": "markdown",
   "metadata": {},
   "source": [
    "### Complete all the tasks below!"
   ]
  },
  {
   "cell_type": "markdown",
   "metadata": {},
   "source": [
    "**1: Let’s start by including a data interface called fetchmaker that will give you access to FetchMaker’s dog data.**\n",
    "\n",
    "**Use import ```fetchmaker``` at the top of your script.py file to import the fetchmaker package. Also, you can import numpy to enable to use some function.**"
   ]
  },
  {
   "cell_type": "code",
   "execution_count": 1,
   "metadata": {},
   "outputs": [],
   "source": [
    "# code for task1\n"
   ]
  },
  {
   "cell_type": "markdown",
   "metadata": {},
   "source": [
    "**2: The attributes that FetchMaker keeps track of are:**\n",
    "\n",
    "**```weight```, an integer representing how heavy a dog is in pounds**\n",
    "**```tail_length```, a float representing tail length in inches**\n",
    "**```age```, in years**\n",
    "**```color```, a String such as \"brown\" or \"grey\"**\n",
    "**```is_rescue```, a boolean 0 or 1**\n",
    "**The fetchmaker package lets you access this data for a specific breed of dog with the following format:**\n",
    "\n",
    "**```fetchmaker.get_weight(\"poodle\")```**\n",
    "\n",
    "**This returns a Pandas DataFrame of the weights of the poodles recorded in the system. The other methods are ```get_tail_length```, ```get_color```, ```get_age```, and ```get_is_rescue```, which all take a breed as an input.**\n",
    "\n",
    "**Get the tail lengths of all of the \"rottweiler\"s in the system, and store it in a variable called ```rottweiler_tl```.**"
   ]
  },
  {
   "cell_type": "code",
   "execution_count": 2,
   "metadata": {},
   "outputs": [],
   "source": [
    "# code for task2\n"
   ]
  },
  {
   "cell_type": "markdown",
   "metadata": {},
   "source": [
    "**3: Print out the mean of ```rottweiler_tl``` and the standard deviation of ```rottweiler_tl```, using ```np.mean``` and ```np.std```.**"
   ]
  },
  {
   "cell_type": "code",
   "execution_count": 3,
   "metadata": {},
   "outputs": [],
   "source": [
    "# code for task3\n"
   ]
  },
  {
   "cell_type": "markdown",
   "metadata": {},
   "source": [
    "**4: Over the years, we have seen that we expect 8% of dogs in the FetchMaker system to be rescues. We want to know if whippets are significantly more or less likely to be a rescue.**\n",
    "\n",
    "**Store the ```is_rescue``` values for \"whippet\"s in a variable called ```whippet_rescue```.**"
   ]
  },
  {
   "cell_type": "code",
   "execution_count": 4,
   "metadata": {},
   "outputs": [],
   "source": [
    "# code for task4\n"
   ]
  },
  {
   "cell_type": "markdown",
   "metadata": {},
   "source": [
    "**5: Use np.count_nonzero to get the number of entries in ```whippet_rescue``` that are 1. Store this number in a variable called ```num_whippet_rescues```.**"
   ]
  },
  {
   "cell_type": "code",
   "execution_count": 5,
   "metadata": {},
   "outputs": [],
   "source": [
    "# code for task5\n"
   ]
  },
  {
   "cell_type": "markdown",
   "metadata": {},
   "source": [
    "**6: Get the number of samples in the whippet set by taking the np.size of ```whippet_rescue```. Store this in a variable called ```num_whippets```.**"
   ]
  },
  {
   "cell_type": "code",
   "execution_count": 6,
   "metadata": {},
   "outputs": [],
   "source": [
    "# code fot task6\n"
   ]
  },
  {
   "cell_type": "markdown",
   "metadata": {},
   "source": [
    "**7: Use a binomial test to test the number of whippet rescues, ```num_whippet_rescues```, against our expected percentage, 8%.**\n",
    "\n",
    "**Remember to import the binomial test by using from ```scipy.stats``` import ```binom_test```.**\n",
    "\n",
    "**Print out the p-value. Is your result significant?**"
   ]
  },
  {
   "cell_type": "code",
   "execution_count": 7,
   "metadata": {},
   "outputs": [],
   "source": [
    "# code for task7\n"
   ]
  },
  {
   "cell_type": "markdown",
   "metadata": {},
   "source": [
    "**8: Three of our most popular mid-sized dog breeds are whippets, terriers, and pitbulls. Is there a significant difference in the average weights of these three dog breeds? Perform a comparative numerical test to determine if there is a significant difference.**"
   ]
  },
  {
   "cell_type": "code",
   "execution_count": 8,
   "metadata": {},
   "outputs": [],
   "source": [
    "# code for task8\n"
   ]
  },
  {
   "cell_type": "markdown",
   "metadata": {},
   "source": [
    "**9: Now, perform another test to determine which of the pairs of these dog breeds differ from each other.**"
   ]
  },
  {
   "cell_type": "code",
   "execution_count": 9,
   "metadata": {},
   "outputs": [],
   "source": [
    "# code for task9\n"
   ]
  },
  {
   "cell_type": "markdown",
   "metadata": {},
   "source": [
    "**10: We want to see if \"poodle\"s and \"shihtzu\"s have significantly different color breakdowns.**\n",
    "\n",
    "**Get the poodle colors and store it in a variable called poodle_colors.**\n",
    "\n",
    "**Get the shih tzu colors and store it in a variable called shihtzu_colors.**"
   ]
  },
  {
   "cell_type": "code",
   "execution_count": 10,
   "metadata": {},
   "outputs": [],
   "source": [
    "# code for task10\n"
   ]
  },
  {
   "cell_type": "markdown",
   "metadata": {},
   "source": [
    "**11: You can get the number of occurrences of brown poodles by using ```np.count_nonzero(poodle_colors == \"brown\")```.**\n",
    "\n",
    "**Use this function to build a Chi Square contingency table, called ```color_table```, with the following structure:**\n",
    "\n",
    "Color　　Poodle　　Shih Tzu  \n",
    "Black\tx\tx  \n",
    "Brown\tx\tx  \n",
    "Gold\tx\tx  \n",
    "Grey\tx\tx  \n",
    "White\tx\tx  \n",
    "\n",
    "**Fill in the “x” entries with the number of each poodle or shih tzu with the specified color.**"
   ]
  },
  {
   "cell_type": "code",
   "execution_count": 11,
   "metadata": {},
   "outputs": [],
   "source": [
    "# code for task11\n"
   ]
  },
  {
   "cell_type": "markdown",
   "metadata": {},
   "source": [
    "**12: Feed your color_table into SciPy’s Chi Square test, save the p-value and print it out.**\n",
    "\n",
    "**Is there a significant difference?**"
   ]
  },
  {
   "cell_type": "code",
   "execution_count": 12,
   "metadata": {},
   "outputs": [],
   "source": [
    "# code for task12\n"
   ]
  }
 ],
 "metadata": {
  "kernelspec": {
   "display_name": "Python 3",
   "language": "python",
   "name": "python3"
  },
  "language_info": {
   "codemirror_mode": {
    "name": "ipython",
    "version": 3
   },
   "file_extension": ".py",
   "mimetype": "text/x-python",
   "name": "python",
   "nbconvert_exporter": "python",
   "pygments_lexer": "ipython3",
   "version": "3.7.3"
  }
 },
 "nbformat": 4,
 "nbformat_minor": 2
}
