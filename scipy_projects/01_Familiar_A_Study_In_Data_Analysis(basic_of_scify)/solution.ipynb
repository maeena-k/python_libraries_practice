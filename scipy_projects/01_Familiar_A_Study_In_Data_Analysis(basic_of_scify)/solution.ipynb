{
 "cells": [
  {
   "cell_type": "markdown",
   "metadata": {},
   "source": [
    "## Familiar: A Study In Data Analysis\n",
    "\n",
    "Welcome to Familiar, a startup in the new market of blood transfusion! You’ve joined the team because you appreciate the flexible hours and extremely intelligent team, but the overeager doorman welcoming you into the office is a nice way to start your workday (well, work-evening).\n",
    "\n",
    "Familiar has fallen into some tough times lately, so you’re hoping to help them make some insights about their product and help move the needle (so to speak)."
   ]
  },
  {
   "cell_type": "markdown",
   "metadata": {},
   "source": [
    "### Complete all the tasks below."
   ]
  },
  {
   "cell_type": "markdown",
   "metadata": {},
   "source": [
    "**1: We’re going to start by including a data interface that a previous software engineer wrote for you, it’s aptly titled ```familiar```, so just import that.**"
   ]
  },
  {
   "cell_type": "code",
   "execution_count": 1,
   "metadata": {},
   "outputs": [],
   "source": [
    "# code for task1\n",
    "import familiar"
   ]
  },
  {
   "cell_type": "markdown",
   "metadata": {},
   "source": [
    "**2: Perfect, now the first thing we want to show is that our most basic package, the Vein Pack, actually has a significant impact on the subscribers. It would be a marketing goldmine if we can show that subscribers to the Vein Pack live longer than other people.**\n",
    "\n",
    "**Lifespans of Vein Pack users are returned by the function ```lifespans(package='vein')```, which is part of the familiar module. Call that function and save the data into a variable called ```vein_pack_lifespans```.**"
   ]
  },
  {
   "cell_type": "code",
   "execution_count": 2,
   "metadata": {},
   "outputs": [
    {
     "name": "stdout",
     "output_type": "stream",
     "text": [
      "[76.93767431371617, 75.99335913014681, 74.79815012354048, 74.50202147158551, 77.48888897587436, 72.14256573154043, 75.99303167191182, 76.34155048095228, 77.48475562999882, 76.5321014800867, 76.25508955276418, 77.58398316566651, 77.04737034962294, 72.87475174594711, 77.43504547002844, 77.4923414107892, 78.32672046879952, 73.34370246887067, 79.96915765236346, 74.83800583300325]\n"
     ]
    }
   ],
   "source": [
    "# code for task2\n",
    "vein_pack_lifespans = familiar.lifespans(package='vein')\n",
    "print(vein_pack_lifespans)"
   ]
  },
  {
   "cell_type": "markdown",
   "metadata": {},
   "source": [
    "**3: We’d like to find out if the average lifespan of a Vein Pack subscriber is significantly different from the average life expectancy of 71 years.**\n",
    "\n",
    "**Import the statistical test we would use to determine if a sample comes from a population that has a given mean from ```scipy.stats```.**"
   ]
  },
  {
   "cell_type": "code",
   "execution_count": 3,
   "metadata": {},
   "outputs": [],
   "source": [
    "# code for task3\n",
    "from scipy.stats import ttest_1samp"
   ]
  },
  {
   "cell_type": "markdown",
   "metadata": {},
   "source": [
    "**4: Now use the 1-Sample T-Test to compare vein_pack_lifespans to the average life expectancy 71. Save the result into a variable called ```vein_pack_test```.**"
   ]
  },
  {
   "cell_type": "code",
   "execution_count": 4,
   "metadata": {},
   "outputs": [],
   "source": [
    "# code for task4\n",
    "vein_pack_test = ttest_1samp(vein_pack_lifespans, 71)"
   ]
  },
  {
   "cell_type": "markdown",
   "metadata": {},
   "source": [
    "**5: Let’s check if the results above are significant! Check the pvalue of ```vein_pack_test```. If it’s less than 0.05, we’ve got significance!**"
   ]
  },
  {
   "cell_type": "code",
   "execution_count": 5,
   "metadata": {},
   "outputs": [
    {
     "name": "stdout",
     "output_type": "stream",
     "text": [
      "0.0000000003\n"
     ]
    }
   ],
   "source": [
    "# code for task5\n",
    "print(format(vein_pack_test.pvalue, '0.10f'))"
   ]
  },
  {
   "cell_type": "markdown",
   "metadata": {},
   "source": [
    "**6: We want to present this information to the CEO, Vlad, of this incredible finding. Let’s print some information out! If the test’s p-value is less than 0.05, print “The Vein Pack Is Proven To Make You Live Longer!”. Otherwise print “The Vein Pack Is Probably Good For You Somehow!”**\n",
    "\n",
    "*You can make a if statement."
   ]
  },
  {
   "cell_type": "code",
   "execution_count": 6,
   "metadata": {},
   "outputs": [
    {
     "name": "stdout",
     "output_type": "stream",
     "text": [
      "The Vein Pack Is Proven To Make You Live Longer!\n"
     ]
    }
   ],
   "source": [
    "# code for task6\n",
    "if vein_pack_test.pvalue < 0.05:\n",
    "    print('The Vein Pack Is Proven To Make You Live Longer!')\n",
    "else:\n",
    "    print('The Vein Pack Is Probably Good For You Somehow!')"
   ]
  },
  {
   "cell_type": "markdown",
   "metadata": {},
   "source": [
    "**7: In order to differentiate Familiar’s different product lines, we’d like to compare this lifespan data between our different packages. Our next step up from the Vein Pack is the Artery Pack. Let’s get the lifespans of Artery Pack subscribers using the same method, called with ```package='artery'``` instead. Save the value into a variable called ```artery_pack_lifespans```.**"
   ]
  },
  {
   "cell_type": "code",
   "execution_count": 7,
   "metadata": {},
   "outputs": [
    {
     "name": "stdout",
     "output_type": "stream",
     "text": [
      "[76.33537008426835, 76.92308231559062, 75.9524416448778, 74.5449834807203, 76.4045042754472, 73.07924888636576, 77.02354461052992, 74.1174204200688, 77.38650656208344, 73.04476583718993, 74.96311850866167, 73.31954301933486, 75.85740137696862, 76.15265351351255, 73.3551028632267, 73.90221256458788, 73.77121195092475, 68.31489830285578, 74.63975717775328, 78.38547730843979]\n"
     ]
    }
   ],
   "source": [
    "# code for task7\n",
    "artery_pack_lifespans = familiar.lifespans(package='artery')\n",
    "print(artery_pack_lifespans)"
   ]
  },
  {
   "cell_type": "markdown",
   "metadata": {},
   "source": [
    "**8: Now we want to show that the subscribers to the Artery Pack experience a significant improvement even beyond what a Vein Pack subscriber’s benefits. Import the 2-Sample T-Test and we’ll use that to see if there is a significant difference between the two subscriptions.**"
   ]
  },
  {
   "cell_type": "code",
   "execution_count": 8,
   "metadata": {},
   "outputs": [],
   "source": [
    "# code for task8\n",
    "from scipy.stats import ttest_ind"
   ]
  },
  {
   "cell_type": "markdown",
   "metadata": {},
   "source": [
    "**9: Okay let’s run the 2-Sample test! Save the results into a variable named ```package_comparison_results```.**"
   ]
  },
  {
   "cell_type": "code",
   "execution_count": 9,
   "metadata": {},
   "outputs": [
    {
     "name": "stdout",
     "output_type": "stream",
     "text": [
      "Ttest_indResult(statistic=-1.9722687784695117, pvalue=0.05588883079070819)\n"
     ]
    }
   ],
   "source": [
    "# code for task9\n",
    "package_comparison_results = ttest_ind(artery_pack_lifespans, vein_pack_lifespans)\n",
    "\n",
    "print(package_comparison_results)"
   ]
  },
  {
   "cell_type": "markdown",
   "metadata": {},
   "source": [
    "**10: Let’s see the results! If the p-value from our experiment is less than 0.05, the results are significant and we should print out “the Artery Package guarantees even stronger results!”. Otherwise we should print out “the Artery Package is also a great product!”**"
   ]
  },
  {
   "cell_type": "code",
   "execution_count": 10,
   "metadata": {},
   "outputs": [
    {
     "name": "stdout",
     "output_type": "stream",
     "text": [
      "the Artery Package is also a great products!\n"
     ]
    }
   ],
   "source": [
    "# code for task10\n",
    "if package_comparison_results.pvalue < 0.05:\n",
    "    print('the Artery Package guarantees even stronger results!')\n",
    "else:\n",
    "    print('the Artery Package is also a great products!')"
   ]
  },
  {
   "cell_type": "markdown",
   "metadata": {},
   "source": [
    "**11: If your lifespan isn’t significantly increased by signing up for the Artery Package, maybe we can make some other claim about the benefits of the package. To that end, we’ve sent out a survey collecting the iron counts for our subscribers, and filtered that data into “low”, “normal”, and “high”.**\n",
    "\n",
    "**We received 200 responses from our Vein Package subscribers. 70% of them had low iron counts, 20% had normal, and 10% of them have high iron counts.**\n",
    "\n",
    "**We were only able to get 145 responses from our Artery Package subscribers, but only 20% of them had low iron counts. 60% had normal, and 20% have high iron counts.**\n",
    "\n",
    "**The data from the survey has been collected and formatted into a contingency table. You can access that data from the function ```familiar.iron_counts_for_package()```. Save the survey results into a variable called ```iron_contingency_table```.**"
   ]
  },
  {
   "cell_type": "code",
   "execution_count": 11,
   "metadata": {},
   "outputs": [
    {
     "name": "stdout",
     "output_type": "stream",
     "text": [
      "[[140, 29], [40, 87], [20, 29]]\n"
     ]
    }
   ],
   "source": [
    "# code for task11\n",
    "iron_contingency_table = familiar.iron_counts_for_package()\n",
    "print(iron_contingency_table)"
   ]
  },
  {
   "cell_type": "markdown",
   "metadata": {},
   "source": [
    "**12: We want to be able to tell if what seems like a higher number of our Artery Package subscribers is a significant difference from what was reported by Vein Package subscribers. Import the Chi-Squared test so that we can find out.**"
   ]
  },
  {
   "cell_type": "code",
   "execution_count": 12,
   "metadata": {},
   "outputs": [],
   "source": [
    "# code for task12\n",
    "from scipy.stats import chi2_contingency"
   ]
  },
  {
   "cell_type": "markdown",
   "metadata": {},
   "source": [
    "**13: Run the Chi-Squared test on the iron_contingency_table and save the p-value in a variable called ```iron_pvalue```. Remember that this test returns four things: the test statistic, the p-value, the number of degrees of freedom, and the expected frequencies.**"
   ]
  },
  {
   "cell_type": "code",
   "execution_count": 13,
   "metadata": {},
   "outputs": [
    {
     "name": "stdout",
     "output_type": "stream",
     "text": [
      "2.9227133549883315e-19\n"
     ]
    }
   ],
   "source": [
    "# code for task13\n",
    "iron_pvalue = chi2_contingency(iron_contingency_table)[1]\n",
    "print(iron_pvalue)"
   ]
  },
  {
   "cell_type": "markdown",
   "metadata": {},
   "source": [
    "**14: Here’s the big moment: if the iron_pvalue is less than 0.05, print out “The Artery Package Is Proven To Make You Healthier!” otherwise we’ll have to use our other marketing copy: “While We Can’t Say The Artery Package Will Help You, I Bet It’s Nice!”**"
   ]
  },
  {
   "cell_type": "code",
   "execution_count": 14,
   "metadata": {},
   "outputs": [
    {
     "name": "stdout",
     "output_type": "stream",
     "text": [
      "The Artery Package Is Proven To Make You Healthier!\n"
     ]
    }
   ],
   "source": [
    "# code for task14\n",
    "if iron_pvalue < 0.05:\n",
    "    print('The Artery Package Is Proven To Make You Healthier!')\n",
    "else:\n",
    "    print('While We Can’t Say The Artery Package Will Help You, I Bet It’s Nice!')"
   ]
  }
 ],
 "metadata": {
  "kernelspec": {
   "display_name": "Python 3",
   "language": "python",
   "name": "python3"
  },
  "language_info": {
   "codemirror_mode": {
    "name": "ipython",
    "version": 3
   },
   "file_extension": ".py",
   "mimetype": "text/x-python",
   "name": "python",
   "nbconvert_exporter": "python",
   "pygments_lexer": "ipython3",
   "version": "3.7.3"
  }
 },
 "nbformat": 4,
 "nbformat_minor": 2
}
