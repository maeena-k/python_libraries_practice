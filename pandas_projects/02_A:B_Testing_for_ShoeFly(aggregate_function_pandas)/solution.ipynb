{
 "cells": [
  {
   "cell_type": "markdown",
   "metadata": {},
   "source": [
    "## A/B Testing for ShoeFly.com\n",
    "\n",
    "Our favorite online shoe store, ShoeFly.com is performing an A/B Test.  \n",
    "They have two different versions of an ad, which they have placed in emails, as well as in banner ads on Facebook, Twitter, and Google. They want to know how the two ads are performing on each of the different platforms on each day of the week. Help them analyze the data using aggregate measures."
   ]
  },
  {
   "cell_type": "markdown",
   "metadata": {},
   "source": [
    "### Complete all the tasks below!"
   ]
  },
  {
   "cell_type": "markdown",
   "metadata": {},
   "source": [
    "**1: import ```ad_clicks.csv```, and save it to a variable called ```ad_clicks```.**\n",
    "\n",
    "**Examine the first few rows of ad_clicks.**"
   ]
  },
  {
   "cell_type": "code",
   "execution_count": 1,
   "metadata": {},
   "outputs": [
    {
     "name": "stdout",
     "output_type": "stream",
     "text": [
      "                                user_id utm_source           day  \\\n",
      "0  008b7c6c-7272-471e-b90e-930d548bd8d7     google  6 - Saturday   \n",
      "1  009abb94-5e14-4b6c-bb1c-4f4df7aa7557   facebook    7 - Sunday   \n",
      "2  00f5d532-ed58-4570-b6d2-768df5f41aed    twitter   2 - Tuesday   \n",
      "3  011adc64-0f44-4fd9-a0bb-f1506d2ad439     google   2 - Tuesday   \n",
      "4  012137e6-7ae7-4649-af68-205b4702169c   facebook    7 - Sunday   \n",
      "\n",
      "  ad_click_timestamp experimental_group  \n",
      "0               7:18                  A  \n",
      "1                NaN                  B  \n",
      "2                NaN                  A  \n",
      "3                NaN                  B  \n",
      "4                NaN                  B  \n"
     ]
    }
   ],
   "source": [
    "# code for task1\n",
    "import pandas as pd\n",
    "\n",
    "ad_clicks = pd.read_csv('ad_clicks.csv')\n",
    "print(ad_clicks.head(5))"
   ]
  },
  {
   "cell_type": "markdown",
   "metadata": {},
   "source": [
    "**2: Your manager wants to know which ad platform is getting you the most views.**\n",
    "\n",
    "**How many views (i.e., rows of the table) came from each utm_source?**"
   ]
  },
  {
   "cell_type": "code",
   "execution_count": 2,
   "metadata": {},
   "outputs": [
    {
     "name": "stdout",
     "output_type": "stream",
     "text": [
      "  utm_source  user_id\n",
      "0      email      255\n",
      "1   facebook      504\n",
      "2     google      680\n",
      "3    twitter      215\n"
     ]
    }
   ],
   "source": [
    "# code fot task2\n",
    "views_each_utm_source = ad_clicks.groupby('utm_source').user_id.count().reset_index()\n",
    "print(views_each_utm_source)"
   ]
  },
  {
   "cell_type": "markdown",
   "metadata": {},
   "source": [
    "**3: If the column ```ad_click_timestamp``` is not null, then someone actually clicked on the ad that was displayed.**\n",
    "\n",
    "**Create a new column called ```is_click```, which is True if ```ad_click_timestamp``` is not null and False otherwise.**"
   ]
  },
  {
   "cell_type": "code",
   "execution_count": 3,
   "metadata": {},
   "outputs": [
    {
     "name": "stdout",
     "output_type": "stream",
     "text": [
      "                                user_id utm_source           day  \\\n",
      "0  008b7c6c-7272-471e-b90e-930d548bd8d7     google  6 - Saturday   \n",
      "1  009abb94-5e14-4b6c-bb1c-4f4df7aa7557   facebook    7 - Sunday   \n",
      "2  00f5d532-ed58-4570-b6d2-768df5f41aed    twitter   2 - Tuesday   \n",
      "3  011adc64-0f44-4fd9-a0bb-f1506d2ad439     google   2 - Tuesday   \n",
      "4  012137e6-7ae7-4649-af68-205b4702169c   facebook    7 - Sunday   \n",
      "\n",
      "  ad_click_timestamp experimental_group  is_click  \n",
      "0               7:18                  A      True  \n",
      "1                NaN                  B     False  \n",
      "2                NaN                  A     False  \n",
      "3                NaN                  B     False  \n",
      "4                NaN                  B     False  \n"
     ]
    }
   ],
   "source": [
    "# code fot task3\n",
    "ad_clicks['is_click'] = ~ad_clicks.ad_click_timestamp.isnull()\n",
    "print(ad_clicks.head(5))"
   ]
  },
  {
   "cell_type": "markdown",
   "metadata": {},
   "source": [
    "**4: We want to know the percent of people who clicked on ads from each ```utm_source```.**\n",
    "\n",
    "**Start by grouping by ```utm_source``` and ```is_click``` and counting the number of ```user_id```‘s in each of those groups. Save your answer to the variable ```clicks_by_source```.**"
   ]
  },
  {
   "cell_type": "code",
   "execution_count": 4,
   "metadata": {},
   "outputs": [
    {
     "name": "stdout",
     "output_type": "stream",
     "text": [
      "  utm_source  is_click  user_id\n",
      "0      email     False      175\n",
      "1      email      True       80\n",
      "2   facebook     False      324\n",
      "3   facebook      True      180\n",
      "4     google     False      441\n",
      "5     google      True      239\n",
      "6    twitter     False      149\n",
      "7    twitter      True       66\n"
     ]
    }
   ],
   "source": [
    "# code fot task4\n",
    "clicks_by_source = ad_clicks.groupby(['utm_source', 'is_click']).user_id.count().reset_index()\n",
    "print(clicks_by_source)"
   ]
  },
  {
   "cell_type": "markdown",
   "metadata": {},
   "source": [
    "**5: Now let’s pivot the data so that the columns are ```is_click``` (either True or False), the index is ```utm_source```, and the values are ```user_id```.**\n",
    "\n",
    "**Save your results to the variable ```clicks_pivot```.**"
   ]
  },
  {
   "cell_type": "code",
   "execution_count": 5,
   "metadata": {},
   "outputs": [
    {
     "name": "stdout",
     "output_type": "stream",
     "text": [
      "is_click utm_source  False  True\n",
      "0             email    175    80\n",
      "1          facebook    324   180\n",
      "2            google    441   239\n",
      "3           twitter    149    66\n"
     ]
    }
   ],
   "source": [
    "# code for task5\n",
    "clicks_pivot = clicks_by_source.pivot(index='utm_source', columns='is_click', values='user_id').reset_index()\n",
    "print(clicks_pivot)"
   ]
  },
  {
   "cell_type": "markdown",
   "metadata": {},
   "source": [
    "**6: Create a new column in ```clicks_pivot``` called ```percent_clicked``` which is equal to the percent of users who clicked on the ad from each ```utm_source```.**\n",
    "\n",
    "**Was there a difference in click rates for each source?**"
   ]
  },
  {
   "cell_type": "code",
   "execution_count": 6,
   "metadata": {},
   "outputs": [
    {
     "name": "stdout",
     "output_type": "stream",
     "text": [
      "is_click utm_source  False  True  percent_clicked\n",
      "0             email    175    80         0.313725\n",
      "1          facebook    324   180         0.357143\n",
      "2            google    441   239         0.351471\n",
      "3           twitter    149    66         0.306977\n"
     ]
    }
   ],
   "source": [
    "# code for task6\n",
    "clicks_pivot['percent_clicked'] = clicks_pivot[True] / (clicks_pivot[False] + clicks_pivot[True])\n",
    "print(clicks_pivot)"
   ]
  },
  {
   "cell_type": "markdown",
   "metadata": {},
   "source": [
    "**7: The column ```experimental_group``` tells us whether the user was shown Ad A or B.**\n",
    "\n",
    "**Were approximately the same number of people shown both adds?**"
   ]
  },
  {
   "cell_type": "code",
   "execution_count": 7,
   "metadata": {},
   "outputs": [
    {
     "name": "stdout",
     "output_type": "stream",
     "text": [
      "  experimental_group  user_id\n",
      "0                  A      827\n",
      "1                  B      827\n"
     ]
    }
   ],
   "source": [
    "# code for task7\n",
    "a_b_count = ad_clicks.groupby('experimental_group').user_id.count().reset_index()\n",
    "print(a_b_count)"
   ]
  },
  {
   "cell_type": "markdown",
   "metadata": {},
   "source": [
    "**8: Using the column ```is_click``` that we defined earlier, check to see if a greater percentage of users clicked on Ad A or B.**"
   ]
  },
  {
   "cell_type": "code",
   "execution_count": 8,
   "metadata": {},
   "outputs": [
    {
     "name": "stdout",
     "output_type": "stream",
     "text": [
      "  experimental_group  is_click  user_id\n",
      "0                  A     False      517\n",
      "1                  A      True      310\n",
      "2                  B     False      572\n",
      "3                  B      True      255\n"
     ]
    }
   ],
   "source": [
    "# code fot task8\n",
    "clicks_percentage = ad_clicks.groupby(['experimental_group', 'is_click']).user_id.count().reset_index()\n",
    "print(clicks_percentage)"
   ]
  },
  {
   "cell_type": "markdown",
   "metadata": {},
   "source": [
    "**9: The Product Manager for the A/B test thinks that the clicks might have changed by day of the week.**\n",
    "\n",
    "**Start by creating two DataFrames: ```a_clicks``` and ```b_clicks```, which contain only the results for A group and B group, respectively.**"
   ]
  },
  {
   "cell_type": "code",
   "execution_count": 9,
   "metadata": {},
   "outputs": [
    {
     "name": "stdout",
     "output_type": "stream",
     "text": [
      "                                user_id utm_source            day  \\\n",
      "0  008b7c6c-7272-471e-b90e-930d548bd8d7     google   6 - Saturday   \n",
      "2  00f5d532-ed58-4570-b6d2-768df5f41aed    twitter    2 - Tuesday   \n",
      "5  013b0072-7b72-40e7-b698-98b4d0c9967f   facebook     1 - Monday   \n",
      "6  0153d85b-7660-4c39-92eb-1e1acd023280     google   4 - Thursday   \n",
      "7  01555297-d6e6-49ae-aeba-1b196fdbb09f     google  3 - Wednesday   \n",
      "\n",
      "  ad_click_timestamp experimental_group  is_click  \n",
      "0               7:18                  A      True  \n",
      "2                NaN                  A     False  \n",
      "5                NaN                  A     False  \n",
      "6                NaN                  A     False  \n",
      "7                NaN                  A     False  \n",
      "                                 user_id utm_source            day  \\\n",
      "1   009abb94-5e14-4b6c-bb1c-4f4df7aa7557   facebook     7 - Sunday   \n",
      "3   011adc64-0f44-4fd9-a0bb-f1506d2ad439     google    2 - Tuesday   \n",
      "4   012137e6-7ae7-4649-af68-205b4702169c   facebook     7 - Sunday   \n",
      "9   01a210c3-fde0-4e6f-8efd-4f0e38730ae6      email    2 - Tuesday   \n",
      "10  01adb2e7-f711-4ae4-a7c6-29f48457eea1     google  3 - Wednesday   \n",
      "\n",
      "   ad_click_timestamp experimental_group  is_click  \n",
      "1                 NaN                  B     False  \n",
      "3                 NaN                  B     False  \n",
      "4                 NaN                  B     False  \n",
      "9               15:21                  B      True  \n",
      "10                NaN                  B     False  \n"
     ]
    }
   ],
   "source": [
    "# code for task9\n",
    "a_clicks = ad_clicks[ad_clicks.experimental_group == 'A']\n",
    "b_clicks = ad_clicks[ad_clicks.experimental_group == 'B']\n",
    "\n",
    "print(a_clicks.head(5))\n",
    "print(b_clicks.head(5))"
   ]
  },
  {
   "cell_type": "markdown",
   "metadata": {},
   "source": [
    "**10: For each group (```a_clicks``` and ```b_clicks```), calculate the percent of users who clicked on the ad by day.**"
   ]
  },
  {
   "cell_type": "code",
   "execution_count": 10,
   "metadata": {},
   "outputs": [
    {
     "name": "stdout",
     "output_type": "stream",
     "text": [
      "is_click            day  False  True  clicked_percentage\n",
      "0            1 - Monday     70    43            0.380531\n",
      "1           2 - Tuesday     76    43            0.361345\n",
      "2         3 - Wednesday     86    38            0.306452\n",
      "3          4 - Thursday     69    47            0.405172\n",
      "4            5 - Friday     77    51            0.398438\n",
      "5          6 - Saturday     73    45            0.381356\n",
      "6            7 - Sunday     66    43            0.394495\n",
      "is_click            day  False  True  clicked_percentage\n",
      "0            1 - Monday     81    32            0.283186\n",
      "1           2 - Tuesday     74    45            0.378151\n",
      "2         3 - Wednesday     89    35            0.282258\n",
      "3          4 - Thursday     87    29            0.250000\n",
      "4            5 - Friday     90    38            0.296875\n",
      "5          6 - Saturday     76    42            0.355932\n",
      "6            7 - Sunday     75    34            0.311927\n"
     ]
    }
   ],
   "source": [
    "# code for task10\n",
    "a_clicks_everyday = a_clicks.groupby(['day', 'is_click']).user_id.count().reset_index()\n",
    "b_clicks_everyday = b_clicks.groupby(['day', 'is_click']).user_id.count().reset_index()\n",
    "\n",
    "a_clicks_everyday_pivot = \\\n",
    "    a_clicks_everyday.pivot(index='day', columns='is_click', values='user_id').reset_index()\n",
    "b_clicks_everyday_pivot = \\\n",
    "    b_clicks_everyday.pivot(index='day', columns='is_click', values='user_id').reset_index()\n",
    "\n",
    "a_clicks_everyday_pivot['clicked_percentage'] = \\\n",
    "    a_clicks_everyday_pivot[True] / (a_clicks_everyday_pivot[True] + a_clicks_everyday_pivot[False])\n",
    "\n",
    "b_clicks_everyday_pivot['clicked_percentage'] = \\\n",
    "    b_clicks_everyday_pivot[True] / (b_clicks_everyday_pivot[True] + b_clicks_everyday_pivot[False])\n",
    "\n",
    "print(a_clicks_everyday_pivot)\n",
    "print(b_clicks_everyday_pivot)"
   ]
  },
  {
   "cell_type": "markdown",
   "metadata": {},
   "source": [
    "**11: Compare the results for A and B. What happened over the course of the week?**\n",
    "\n",
    "**Do you recommend that your company use Ad A or B?**"
   ]
  },
  {
   "cell_type": "code",
   "execution_count": 11,
   "metadata": {},
   "outputs": [
    {
     "name": "stdout",
     "output_type": "stream",
     "text": [
      "1.34375\n",
      "0.9555555555555556\n",
      "1.0857142857142856\n",
      "1.6206896551724137\n",
      "1.3421052631578947\n",
      "1.0714285714285714\n",
      "1.2647058823529411\n"
     ]
    }
   ],
   "source": [
    "# code for task11\n",
    "for i in range(0, len(a_clicks_everyday_pivot)):\n",
    "    print(a_clicks_everyday_pivot[True][i] / b_clicks_everyday_pivot[True][i])"
   ]
  }
 ],
 "metadata": {
  "kernelspec": {
   "display_name": "Python 3",
   "language": "python",
   "name": "python3"
  },
  "language_info": {
   "codemirror_mode": {
    "name": "ipython",
    "version": 3
   },
   "file_extension": ".py",
   "mimetype": "text/x-python",
   "name": "python",
   "nbconvert_exporter": "python",
   "pygments_lexer": "ipython3",
   "version": "3.7.3"
  }
 },
 "nbformat": 4,
 "nbformat_minor": 2
}
