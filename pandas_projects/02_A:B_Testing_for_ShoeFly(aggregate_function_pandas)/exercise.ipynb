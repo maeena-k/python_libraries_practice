{
 "cells": [
  {
   "cell_type": "markdown",
   "metadata": {},
   "source": [
    "## A/B Testing for ShoeFly.com\n",
    "\n",
    "Our favorite online shoe store, ShoeFly.com is performing an A/B Test.  \n",
    "They have two different versions of an ad, which they have placed in emails, as well as in banner ads on Facebook, Twitter, and Google. They want to know how the two ads are performing on each of the different platforms on each day of the week. Help them analyze the data using aggregate measures."
   ]
  },
  {
   "cell_type": "markdown",
   "metadata": {},
   "source": [
    "### Complete all the tasks below!"
   ]
  },
  {
   "cell_type": "markdown",
   "metadata": {},
   "source": [
    "**1: import ```ad_clicks.csv```, and save it to a variable called ```ad_clicks```.**\n",
    "\n",
    "**Examine the first few rows of ad_clicks.**"
   ]
  },
  {
   "cell_type": "code",
   "execution_count": 1,
   "metadata": {},
   "outputs": [],
   "source": [
    "# code for task1\n"
   ]
  },
  {
   "cell_type": "markdown",
   "metadata": {},
   "source": [
    "**2: Your manager wants to know which ad platform is getting you the most views.**\n",
    "\n",
    "**How many views (i.e., rows of the table) came from each utm_source?**"
   ]
  },
  {
   "cell_type": "code",
   "execution_count": 2,
   "metadata": {},
   "outputs": [],
   "source": [
    "# code fot task2\n"
   ]
  },
  {
   "cell_type": "markdown",
   "metadata": {},
   "source": [
    "**3: If the column ```ad_click_timestamp``` is not null, then someone actually clicked on the ad that was displayed.**\n",
    "\n",
    "**Create a new column called ```is_click```, which is True if ```ad_click_timestamp``` is not null and False otherwise.**"
   ]
  },
  {
   "cell_type": "code",
   "execution_count": 3,
   "metadata": {},
   "outputs": [],
   "source": [
    "# code fot task3\n"
   ]
  },
  {
   "cell_type": "markdown",
   "metadata": {},
   "source": [
    "**4: We want to know the percent of people who clicked on ads from each ```utm_source```.**\n",
    "\n",
    "**Start by grouping by ```utm_source``` and ```is_click``` and counting the number of ```user_id```‘s in each of those groups. Save your answer to the variable ```clicks_by_source```.**"
   ]
  },
  {
   "cell_type": "code",
   "execution_count": 4,
   "metadata": {},
   "outputs": [],
   "source": [
    "# code fot task4\n"
   ]
  },
  {
   "cell_type": "markdown",
   "metadata": {},
   "source": [
    "**5: Now let’s pivot the data so that the columns are ```is_click``` (either True or False), the index is ```utm_source```, and the values are ```user_id```.**\n",
    "\n",
    "**Save your results to the variable ```clicks_pivot```.**"
   ]
  },
  {
   "cell_type": "code",
   "execution_count": 5,
   "metadata": {},
   "outputs": [],
   "source": [
    "# code for task5\n"
   ]
  },
  {
   "cell_type": "markdown",
   "metadata": {},
   "source": [
    "**6: Create a new column in ```clicks_pivot``` called ```percent_clicked``` which is equal to the percent of users who clicked on the ad from each ```utm_source```.**\n",
    "\n",
    "**Was there a difference in click rates for each source?**"
   ]
  },
  {
   "cell_type": "code",
   "execution_count": 6,
   "metadata": {},
   "outputs": [],
   "source": [
    "# code for task6\n"
   ]
  },
  {
   "cell_type": "markdown",
   "metadata": {},
   "source": [
    "**7: The column ```experimental_group``` tells us whether the user was shown Ad A or B.**\n",
    "\n",
    "**Were approximately the same number of people shown both adds?**"
   ]
  },
  {
   "cell_type": "code",
   "execution_count": 7,
   "metadata": {},
   "outputs": [],
   "source": [
    "# code for task7\n"
   ]
  },
  {
   "cell_type": "markdown",
   "metadata": {},
   "source": [
    "**8: Using the column ```is_click``` that we defined earlier, check to see if a greater percentage of users clicked on Ad A or B.**"
   ]
  },
  {
   "cell_type": "code",
   "execution_count": 8,
   "metadata": {},
   "outputs": [],
   "source": [
    "# code fot task8\n"
   ]
  },
  {
   "cell_type": "markdown",
   "metadata": {},
   "source": [
    "**9: The Product Manager for the A/B test thinks that the clicks might have changed by day of the week.**\n",
    "\n",
    "**Start by creating two DataFrames: ```a_clicks``` and ```b_clicks```, which contain only the results for A group and B group, respectively.**"
   ]
  },
  {
   "cell_type": "code",
   "execution_count": 9,
   "metadata": {},
   "outputs": [],
   "source": [
    "# code for task9\n"
   ]
  },
  {
   "cell_type": "markdown",
   "metadata": {},
   "source": [
    "**10: For each group (```a_clicks``` and ```b_clicks```), calculate the percent of users who clicked on the ad by day.**"
   ]
  },
  {
   "cell_type": "code",
   "execution_count": 10,
   "metadata": {},
   "outputs": [],
   "source": [
    "# code for task10\n"
   ]
  },
  {
   "cell_type": "markdown",
   "metadata": {},
   "source": [
    "**11: Compare the results for A and B. What happened over the course of the week?**\n",
    "\n",
    "**Do you recommend that your company use Ad A or B?**"
   ]
  },
  {
   "cell_type": "code",
   "execution_count": 11,
   "metadata": {},
   "outputs": [],
   "source": [
    "# code for task11\n"
   ]
  }
 ],
 "metadata": {
  "kernelspec": {
   "display_name": "Python 3",
   "language": "python",
   "name": "python3"
  },
  "language_info": {
   "codemirror_mode": {
    "name": "ipython",
    "version": 3
   },
   "file_extension": ".py",
   "mimetype": "text/x-python",
   "name": "python",
   "nbconvert_exporter": "python",
   "pygments_lexer": "ipython3",
   "version": "3.7.3"
  }
 },
 "nbformat": 4,
 "nbformat_minor": 2
}
