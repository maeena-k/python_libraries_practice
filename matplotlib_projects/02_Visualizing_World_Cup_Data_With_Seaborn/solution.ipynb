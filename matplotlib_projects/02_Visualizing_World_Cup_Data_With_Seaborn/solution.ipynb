{
 "cells": [
  {
   "cell_type": "markdown",
   "metadata": {},
   "source": [
    "## Visualizing World Cup Data With Seaborn\n",
    "\n",
    "For this project you will be exploring data from the [Fifa World Cup](https://en.wikipedia.org/wiki/FIFA_World_Cup) from 1930-2014 to analyze trends and discover insights about the world’s game, fútbol!  \n",
    "\n",
    "This Fifa World Cup data is from [Kaggle](https://www.kaggle.com/abecklas/fifa-world-cup). Kaggle is a platform for data science competitions that hosts many datasets online.  \n",
    "\n",
    "Using Seaborn you will create a series of plots that explore aggregates and distribution across the goals scored in World Cup games.  \n",
    "\n",
    "### A little primer on the Fifa World Cup:\n",
    "The FIFA World Cup, or simply the World Cup, is an international fútbol competition where 32 countries qualify to send teams made up of the best players from that nation to compete against each other for the World Cup championship.  \n",
    "\n",
    "The World Cup championship has been awarded every four years since the inaugural tournament in 1930, except in 1942 and 1946 when it was not held because of the Second World War.  \n",
    "\n",
    "The current format of the tournament involves 32 teams competing for the title at venues within the host nation over a period of one month.  \n",
    "\n",
    "#### A note on datasets\n",
    "You may notice some typographical errors in the data as you view it. This is a large dataset, and errors are often a part of the process of generating large datasets. None of the errors should affect any of the steps of this project."
   ]
  }
 ],
 "metadata": {
  "kernelspec": {
   "display_name": "Python 3",
   "language": "python",
   "name": "python3"
  },
  "language_info": {
   "codemirror_mode": {
    "name": "ipython",
    "version": 3
   },
   "file_extension": ".py",
   "mimetype": "text/x-python",
   "name": "python",
   "nbconvert_exporter": "python",
   "pygments_lexer": "ipython3",
   "version": "3.7.3"
  }
 },
 "nbformat": 4,
 "nbformat_minor": 2
}
